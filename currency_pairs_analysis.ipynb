{
  "nbformat": 4,
  "nbformat_minor": 0,
  "metadata": {
    "colab": {
      "name": "currency_pairs_analysis.ipynb",
      "provenance": []
    },
    "kernelspec": {
      "display_name": "Python 3",
      "language": "python",
      "name": "python3"
    },
    "language_info": {
      "codemirror_mode": {
        "name": "ipython",
        "version": 3
      },
      "file_extension": ".py",
      "mimetype": "text/x-python",
      "name": "python",
      "nbconvert_exporter": "python",
      "pygments_lexer": "ipython3",
      "version": "3.7.6"
    }
  },
  "cells": [
    {
      "cell_type": "markdown",
      "source": [
        "## ETL + EDA project using Banco Central do Brasil time series of 4 currency pairs: USD/BRL, EUR/BRL, JPY/BRL and GBP/BRL. Developed as part of my Economics undergraduate final project.\n"
      ],
      "metadata": {
        "id": "19dFzYox0KPa"
      }
    },
    {
      "cell_type": "markdown",
      "source": [
        "## Requirements"
      ],
      "metadata": {
        "id": "EDWMjQr60yNB"
      }
    },
    {
      "cell_type": "code",
      "metadata": {
        "colab": {
          "base_uri": "https://localhost:8080/"
        },
        "id": "Otnxd-kyfRRB",
        "outputId": "c3efe5b8-0485-43e4-e6bc-840a8b33edef"
      },
      "source": [
        "import numpy as np\n",
        "import pandas as pd\n",
        "from math import sqrt\n",
        "import seaborn as sns\n",
        "import matplotlib.pyplot as plt\n",
        "\n",
        "#import pymc3 as pm\n",
        "#import pylab\n",
        "import scipy.stats as stats\n",
        "import statsmodels.api as sm\n",
        "from statsmodels.tsa.stattools import adfuller\n",
        "from statsmodels.graphics.tsaplots import plot_acf, plot_pacf"
      ],
      "execution_count": null,
      "outputs": [
        {
          "output_type": "stream",
          "name": "stderr",
          "text": [
            "/usr/local/lib/python3.7/dist-packages/statsmodels/tools/_testing.py:19: FutureWarning: pandas.util.testing is deprecated. Use the functions in the public API at pandas.testing instead.\n",
            "  import pandas.util.testing as tm\n"
          ]
        }
      ]
    },
    {
      "cell_type": "markdown",
      "metadata": {
        "id": "qh7al9j0Ze6Y"
      },
      "source": [
        "# Data Extraction and Transformation"
      ]
    },
    {
      "cell_type": "markdown",
      "metadata": {
        "id": "zlyuBiPufRRE"
      },
      "source": [
        "### BCB API Data Extraction"
      ]
    },
    {
      "cell_type": "code",
      "metadata": {
        "id": "6TP8pQOBfRRE"
      },
      "source": [
        "def gerar_base_bcb(cod):   \n",
        "    url = 'http://api.bcb.gov.br/dados/serie/bcdata.sgs.{}/dados?formato=json'.format(cod)\n",
        "    df = pd.read_json(url)\n",
        "    df['data'] = pd.to_datetime(df['data'], dayfirst=True)\n",
        "    return df"
      ],
      "execution_count": null,
      "outputs": []
    },
    {
      "cell_type": "code",
      "metadata": {
        "id": "jqZVF1DDfRRF"
      },
      "source": [
        "usd_bcb = gerar_base_bcb('10813')\n",
        "eur_bcb = gerar_base_bcb('21620')\n",
        "jpy_bcb = gerar_base_bcb('21622')\n",
        "gbp_bcb = gerar_base_bcb('21624')"
      ],
      "execution_count": null,
      "outputs": []
    },
    {
      "cell_type": "markdown",
      "metadata": {
        "id": "SPW93QlAfRRH"
      },
      "source": [
        "### DXY"
      ]
    },
    {
      "cell_type": "code",
      "metadata": {
        "colab": {
          "base_uri": "https://localhost:8080/",
          "height": 204
        },
        "id": "KPXPZwOdUe3P",
        "outputId": "71585340-3f10-4756-c83a-b7289421a68c"
      },
      "source": [
        "dxy_inv1 = pd.read_csv(r'Índice Dólar Dados Históricos.csv')\n",
        "dxy_inv2 = pd.read_csv(r'Índice Dólar Dados Históricos (1).csv')\n",
        "\n",
        "dxy_inv1 = dxy_inv1.iloc[::-1].reset_index().drop('index', axis=1) \n",
        "dxy_inv2 = dxy_inv2.iloc[::-1].reset_index().drop('index', axis=1)\n",
        "\n",
        "dxy_inv = pd.concat([dxy_inv1, dxy_inv2], ignore_index=True) \n",
        "dxy_inv = dxy_inv.drop(['Abertura', 'Máxima', 'Mínima', 'Vol.', 'Var%'], axis=1) \n",
        "dxy_inv = dxy_inv.rename(columns={'Data':'data', 'Último':'valor'})\n",
        "\n",
        "dxy_inv['data'] = dxy_inv['data'].str.replace('.', '-') \n",
        "dxy_inv['valor'] = dxy_inv['valor'].str.replace(',', '.')\n",
        "\n",
        "dxy_inv['data'] = pd.to_datetime(dxy_inv['data'], dayfirst=True) \n",
        "dxy_inv = dxy_inv.astype({'valor':'float64'})\n",
        "\n",
        "dxy_inv.tail()"
      ],
      "execution_count": null,
      "outputs": [
        {
          "output_type": "execute_result",
          "data": {
            "text/html": [
              "<div>\n",
              "<style scoped>\n",
              "    .dataframe tbody tr th:only-of-type {\n",
              "        vertical-align: middle;\n",
              "    }\n",
              "\n",
              "    .dataframe tbody tr th {\n",
              "        vertical-align: top;\n",
              "    }\n",
              "\n",
              "    .dataframe thead th {\n",
              "        text-align: right;\n",
              "    }\n",
              "</style>\n",
              "<table border=\"1\" class=\"dataframe\">\n",
              "  <thead>\n",
              "    <tr style=\"text-align: right;\">\n",
              "      <th></th>\n",
              "      <th>data</th>\n",
              "      <th>valor</th>\n",
              "    </tr>\n",
              "  </thead>\n",
              "  <tbody>\n",
              "    <tr>\n",
              "      <th>5769</th>\n",
              "      <td>2021-04-23</td>\n",
              "      <td>90.86</td>\n",
              "    </tr>\n",
              "    <tr>\n",
              "      <th>5770</th>\n",
              "      <td>2021-04-26</td>\n",
              "      <td>90.81</td>\n",
              "    </tr>\n",
              "    <tr>\n",
              "      <th>5771</th>\n",
              "      <td>2021-04-27</td>\n",
              "      <td>90.91</td>\n",
              "    </tr>\n",
              "    <tr>\n",
              "      <th>5772</th>\n",
              "      <td>2021-04-28</td>\n",
              "      <td>90.53</td>\n",
              "    </tr>\n",
              "    <tr>\n",
              "      <th>5773</th>\n",
              "      <td>2021-04-29</td>\n",
              "      <td>90.60</td>\n",
              "    </tr>\n",
              "  </tbody>\n",
              "</table>\n",
              "</div>"
            ],
            "text/plain": [
              "           data  valor\n",
              "5769 2021-04-23  90.86\n",
              "5770 2021-04-26  90.81\n",
              "5771 2021-04-27  90.91\n",
              "5772 2021-04-28  90.53\n",
              "5773 2021-04-29  90.60"
            ]
          },
          "metadata": {},
          "execution_count": 13
        }
      ]
    },
    {
      "cell_type": "markdown",
      "metadata": {
        "id": "83LXaF1yfRRH"
      },
      "source": [
        "dxy_inv1 = pd.read_csv(r'Índice Dólar Dados Históricos.csv')\n",
        "dxy_inv2 = pd.read_csv(r'Índice Dólar Dados Históricos (1).csv')"
      ]
    },
    {
      "cell_type": "markdown",
      "metadata": {
        "id": "gHvrv2UnfRRI"
      },
      "source": [
        "dxy_inv1 = dxy_inv1.iloc[::-1].reset_index().drop('index', axis=1)\n",
        "dxy_inv2 = dxy_inv2.iloc[::-1].reset_index().drop('index', axis=1)\n",
        "\n",
        "dxy_inv = pd.concat([dxy_inv1, dxy_inv2], ignore_index=True)\n",
        "dxy_inv = dxy_inv.drop(['Abertura', 'Máxima', 'Mínima', 'Vol.', 'Var%'], axis=1)\n",
        "dxy_inv = dxy_inv.rename(columns={'Data':'data', 'Último':'valor'})"
      ]
    },
    {
      "cell_type": "markdown",
      "metadata": {
        "id": "uWXoEt8zfRRJ"
      },
      "source": [
        "dxy_inv['data'] = dxy_inv['data'].str.replace('.', '-')\n",
        "dxy_inv['valor'] = dxy_inv['valor'].str.replace(',', '.')\n",
        "\n",
        "dxy_inv['data'] = pd.to_datetime(dxy_inv['data'], dayfirst=True)\n",
        "dxy_inv = dxy_inv.astype({'valor':'float64'})"
      ]
    },
    {
      "cell_type": "markdown",
      "metadata": {
        "id": "lfVto494fRRJ"
      },
      "source": [
        "dxy_inv.tail()"
      ]
    },
    {
      "cell_type": "markdown",
      "metadata": {
        "id": "ZUVjQDgzfRRK"
      },
      "source": [
        "### Returns\n"
      ]
    },
    {
      "cell_type": "code",
      "metadata": {
        "id": "sThf2tkhfRRK"
      },
      "source": [
        "def calcular_retornos(df):\n",
        "    df['retorno'] = (df['valor'] / df['valor'].shift(1)) - 1\n",
        "    # df['log_retorno'] = np.log(df['valor']) - np.log(df['valor'].shift(1))\n",
        "    df = df.drop('valor', axis=1)\n",
        "    return df"
      ],
      "execution_count": null,
      "outputs": []
    },
    {
      "cell_type": "code",
      "metadata": {
        "id": "7euSChCwfRRK"
      },
      "source": [
        "usd_ret = calcular_retornos(usd_bcb).rename(columns={'retorno':'usd'})\n",
        "eur_ret = calcular_retornos(eur_bcb).rename(columns={'retorno':'eur'})\n",
        "jpy_ret = calcular_retornos(jpy_bcb).rename(columns={'retorno':'jpy'})\n",
        "gbp_ret = calcular_retornos(gbp_bcb).rename(columns={'retorno':'gbp'})"
      ],
      "execution_count": null,
      "outputs": []
    },
    {
      "cell_type": "code",
      "metadata": {
        "colab": {
          "base_uri": "https://localhost:8080/",
          "height": 204
        },
        "id": "A9DkFHxBfRRL",
        "outputId": "f94e28db-686e-49db-ea3c-39ad45a5fef5"
      },
      "source": [
        "dxy_ret = calcular_retornos(dxy_inv).rename(columns={'retorno':'dxy'})\n",
        "dxy_ret.tail()"
      ],
      "execution_count": null,
      "outputs": [
        {
          "output_type": "execute_result",
          "data": {
            "text/html": [
              "<div>\n",
              "<style scoped>\n",
              "    .dataframe tbody tr th:only-of-type {\n",
              "        vertical-align: middle;\n",
              "    }\n",
              "\n",
              "    .dataframe tbody tr th {\n",
              "        vertical-align: top;\n",
              "    }\n",
              "\n",
              "    .dataframe thead th {\n",
              "        text-align: right;\n",
              "    }\n",
              "</style>\n",
              "<table border=\"1\" class=\"dataframe\">\n",
              "  <thead>\n",
              "    <tr style=\"text-align: right;\">\n",
              "      <th></th>\n",
              "      <th>data</th>\n",
              "      <th>dxy</th>\n",
              "    </tr>\n",
              "  </thead>\n",
              "  <tbody>\n",
              "    <tr>\n",
              "      <th>5769</th>\n",
              "      <td>2021-04-23</td>\n",
              "      <td>-0.005146</td>\n",
              "    </tr>\n",
              "    <tr>\n",
              "      <th>5770</th>\n",
              "      <td>2021-04-26</td>\n",
              "      <td>-0.000550</td>\n",
              "    </tr>\n",
              "    <tr>\n",
              "      <th>5771</th>\n",
              "      <td>2021-04-27</td>\n",
              "      <td>0.001101</td>\n",
              "    </tr>\n",
              "    <tr>\n",
              "      <th>5772</th>\n",
              "      <td>2021-04-28</td>\n",
              "      <td>-0.004180</td>\n",
              "    </tr>\n",
              "    <tr>\n",
              "      <th>5773</th>\n",
              "      <td>2021-04-29</td>\n",
              "      <td>0.000773</td>\n",
              "    </tr>\n",
              "  </tbody>\n",
              "</table>\n",
              "</div>"
            ],
            "text/plain": [
              "           data       dxy\n",
              "5769 2021-04-23 -0.005146\n",
              "5770 2021-04-26 -0.000550\n",
              "5771 2021-04-27  0.001101\n",
              "5772 2021-04-28 -0.004180\n",
              "5773 2021-04-29  0.000773"
            ]
          },
          "metadata": {},
          "execution_count": 14
        }
      ]
    },
    {
      "cell_type": "markdown",
      "metadata": {
        "id": "tSGDoIokfRRL"
      },
      "source": [
        "### Slicing (only data from 1999 and beyond)"
      ]
    },
    {
      "cell_type": "code",
      "metadata": {
        "id": "ytWjqWvsfRRL"
      },
      "source": [
        "def recorte_serie(df):    \n",
        "   \n",
        "    ### SELECIONAR VALORES A PARTIR DE 1999 (REAL E EURO)    \n",
        "    df = df.loc[df['data'] >= '01-01-1999'].reset_index().drop('index', axis=1)\n",
        "    df = df.loc[df['data'] <= '31-12-2020'].reset_index().drop('index', axis=1)\n",
        "    return df"
      ],
      "execution_count": null,
      "outputs": []
    },
    {
      "cell_type": "code",
      "metadata": {
        "id": "QxEjTweAfRRL"
      },
      "source": [
        "usd = recorte_serie(usd_ret)\n",
        "eur = recorte_serie(eur_ret)\n",
        "jpy = recorte_serie(jpy_ret)\n",
        "gbp = recorte_serie(gbp_ret)"
      ],
      "execution_count": null,
      "outputs": []
    },
    {
      "cell_type": "code",
      "metadata": {
        "id": "fBMZbzs3fRRL"
      },
      "source": [
        "def recorte_serie_dxy(df):    \n",
        "   \n",
        "    ### SELECIONAR VALORES A PARTIR DE 1999 (REAL E EURO)    \n",
        "    df = df.loc[df['data'] >= '01-01-1999'].reset_index().drop('index', axis=1)\n",
        "    #df = df.loc[df['data'] <= '31-01-2021'].reset_index().drop('index', axis=1)\n",
        "    return df\n",
        "\n",
        "dxy = recorte_serie_dxy(dxy_ret)"
      ],
      "execution_count": null,
      "outputs": []
    },
    {
      "cell_type": "code",
      "metadata": {
        "colab": {
          "base_uri": "https://localhost:8080/",
          "height": 449
        },
        "id": "4MUFAKA2VUlt",
        "outputId": "8c1ef20a-db68-4381-b7e5-b82885b56ffa"
      },
      "source": [
        "dxy = dxy.set_index('data')\n",
        "dxy"
      ],
      "execution_count": null,
      "outputs": [
        {
          "output_type": "execute_result",
          "data": {
            "text/html": [
              "<div>\n",
              "<style scoped>\n",
              "    .dataframe tbody tr th:only-of-type {\n",
              "        vertical-align: middle;\n",
              "    }\n",
              "\n",
              "    .dataframe tbody tr th {\n",
              "        vertical-align: top;\n",
              "    }\n",
              "\n",
              "    .dataframe thead th {\n",
              "        text-align: right;\n",
              "    }\n",
              "</style>\n",
              "<table border=\"1\" class=\"dataframe\">\n",
              "  <thead>\n",
              "    <tr style=\"text-align: right;\">\n",
              "      <th></th>\n",
              "      <th>dxy</th>\n",
              "    </tr>\n",
              "    <tr>\n",
              "      <th>data</th>\n",
              "      <th></th>\n",
              "    </tr>\n",
              "  </thead>\n",
              "  <tbody>\n",
              "    <tr>\n",
              "      <th>1999-01-01</th>\n",
              "      <td>0.000000</td>\n",
              "    </tr>\n",
              "    <tr>\n",
              "      <th>1999-01-04</th>\n",
              "      <td>-0.007752</td>\n",
              "    </tr>\n",
              "    <tr>\n",
              "      <th>1999-01-05</th>\n",
              "      <td>0.000321</td>\n",
              "    </tr>\n",
              "    <tr>\n",
              "      <th>1999-01-06</th>\n",
              "      <td>0.011341</td>\n",
              "    </tr>\n",
              "    <tr>\n",
              "      <th>1999-01-07</th>\n",
              "      <td>-0.008569</td>\n",
              "    </tr>\n",
              "    <tr>\n",
              "      <th>...</th>\n",
              "      <td>...</td>\n",
              "    </tr>\n",
              "    <tr>\n",
              "      <th>2021-04-23</th>\n",
              "      <td>-0.005146</td>\n",
              "    </tr>\n",
              "    <tr>\n",
              "      <th>2021-04-26</th>\n",
              "      <td>-0.000550</td>\n",
              "    </tr>\n",
              "    <tr>\n",
              "      <th>2021-04-27</th>\n",
              "      <td>0.001101</td>\n",
              "    </tr>\n",
              "    <tr>\n",
              "      <th>2021-04-28</th>\n",
              "      <td>-0.004180</td>\n",
              "    </tr>\n",
              "    <tr>\n",
              "      <th>2021-04-29</th>\n",
              "      <td>0.000773</td>\n",
              "    </tr>\n",
              "  </tbody>\n",
              "</table>\n",
              "<p>5773 rows × 1 columns</p>\n",
              "</div>"
            ],
            "text/plain": [
              "                 dxy\n",
              "data                \n",
              "1999-01-01  0.000000\n",
              "1999-01-04 -0.007752\n",
              "1999-01-05  0.000321\n",
              "1999-01-06  0.011341\n",
              "1999-01-07 -0.008569\n",
              "...              ...\n",
              "2021-04-23 -0.005146\n",
              "2021-04-26 -0.000550\n",
              "2021-04-27  0.001101\n",
              "2021-04-28 -0.004180\n",
              "2021-04-29  0.000773\n",
              "\n",
              "[5773 rows x 1 columns]"
            ]
          },
          "metadata": {},
          "execution_count": 18
        }
      ]
    },
    {
      "cell_type": "code",
      "metadata": {
        "id": "nqUE6xgiVb31"
      },
      "source": [
        "dxy.to_excel('ret_dxy.xlsx')\n",
        "dxy.to_csv('ret_dxy.csv')"
      ],
      "execution_count": null,
      "outputs": []
    },
    {
      "cell_type": "code",
      "metadata": {
        "id": "2EK6f78-kNz0"
      },
      "source": [
        "dxy.to_csv('ret_dxy.csv')"
      ],
      "execution_count": null,
      "outputs": []
    },
    {
      "cell_type": "code",
      "metadata": {
        "colab": {
          "base_uri": "https://localhost:8080/"
        },
        "id": "ygZncN8r3_1x",
        "outputId": "1b14a82e-6c33-46ee-c284-f1b35fc68631"
      },
      "source": [
        "dxy.describe().kurtosis()"
      ],
      "execution_count": null,
      "outputs": [
        {
          "output_type": "execute_result",
          "data": {
            "text/plain": [
              "dxy    8.0\n",
              "dtype: float64"
            ]
          },
          "metadata": {},
          "execution_count": 23
        }
      ]
    },
    {
      "cell_type": "markdown",
      "metadata": {
        "id": "U7MfsVJ3fRRM"
      },
      "source": [
        "### Merge"
      ]
    },
    {
      "cell_type": "code",
      "metadata": {
        "colab": {
          "base_uri": "https://localhost:8080/"
        },
        "id": "qXASboMtfRRM",
        "outputId": "b0c9503e-5462-452b-ceeb-2a5d0f379170"
      },
      "source": [
        "print(len(usd))\n",
        "print(len(eur))\n",
        "print(len(gbp))\n",
        "print(len(jpy))\n",
        "#print(len(dxy))"
      ],
      "execution_count": null,
      "outputs": [
        {
          "output_type": "stream",
          "name": "stdout",
          "text": [
            "5525\n",
            "5521\n",
            "5521\n",
            "5520\n"
          ]
        }
      ]
    },
    {
      "cell_type": "code",
      "metadata": {
        "id": "7owtRUisfRRM"
      },
      "source": [
        "df_eur = pd.merge(usd, eur, how='left', on='data')\n",
        "df_gbp = pd.merge(df_eur, gbp, how='left', on='data')\n",
        "df = pd.merge(df_gbp, jpy, how='left', on='data')"
      ],
      "execution_count": null,
      "outputs": []
    },
    {
      "cell_type": "code",
      "metadata": {
        "id": "CW2XBlFifRRM"
      },
      "source": [
        "#df_dxy = pd.merge(df, dxy, how='left', on='data')"
      ],
      "execution_count": null,
      "outputs": []
    },
    {
      "cell_type": "code",
      "metadata": {
        "colab": {
          "base_uri": "https://localhost:8080/"
        },
        "id": "u8Cqq6KpfRRM",
        "outputId": "29d29850-3cd9-47f5-e44c-04e43e979ba7"
      },
      "source": [
        "df"
      ],
      "execution_count": null,
      "outputs": [
        {
          "output_type": "execute_result",
          "data": {
            "text/html": [
              "<div>\n",
              "<style scoped>\n",
              "    .dataframe tbody tr th:only-of-type {\n",
              "        vertical-align: middle;\n",
              "    }\n",
              "\n",
              "    .dataframe tbody tr th {\n",
              "        vertical-align: top;\n",
              "    }\n",
              "\n",
              "    .dataframe thead th {\n",
              "        text-align: right;\n",
              "    }\n",
              "</style>\n",
              "<table border=\"1\" class=\"dataframe\">\n",
              "  <thead>\n",
              "    <tr style=\"text-align: right;\">\n",
              "      <th></th>\n",
              "      <th>data</th>\n",
              "      <th>usd</th>\n",
              "      <th>eur</th>\n",
              "      <th>gbp</th>\n",
              "      <th>jpy</th>\n",
              "    </tr>\n",
              "  </thead>\n",
              "  <tbody>\n",
              "    <tr>\n",
              "      <th>0</th>\n",
              "      <td>1999-01-04</td>\n",
              "      <td>-0.000745</td>\n",
              "      <td>0.006905</td>\n",
              "      <td>0.001609</td>\n",
              "      <td>0.005133</td>\n",
              "    </tr>\n",
              "    <tr>\n",
              "      <th>1</th>\n",
              "      <td>1999-01-05</td>\n",
              "      <td>0.000580</td>\n",
              "      <td>-0.000148</td>\n",
              "      <td>-0.003098</td>\n",
              "      <td>0.005757</td>\n",
              "    </tr>\n",
              "    <tr>\n",
              "      <th>2</th>\n",
              "      <td>1999-01-06</td>\n",
              "      <td>0.000911</td>\n",
              "      <td>-0.012939</td>\n",
              "      <td>0.000671</td>\n",
              "      <td>-0.013295</td>\n",
              "    </tr>\n",
              "    <tr>\n",
              "      <th>3</th>\n",
              "      <td>1999-01-07</td>\n",
              "      <td>0.000414</td>\n",
              "      <td>0.008763</td>\n",
              "      <td>-0.002005</td>\n",
              "      <td>0.017404</td>\n",
              "    </tr>\n",
              "    <tr>\n",
              "      <th>4</th>\n",
              "      <td>1999-01-08</td>\n",
              "      <td>0.000248</td>\n",
              "      <td>-0.009993</td>\n",
              "      <td>-0.003383</td>\n",
              "      <td>0.001288</td>\n",
              "    </tr>\n",
              "    <tr>\n",
              "      <th>...</th>\n",
              "      <td>...</td>\n",
              "      <td>...</td>\n",
              "      <td>...</td>\n",
              "      <td>...</td>\n",
              "      <td>...</td>\n",
              "    </tr>\n",
              "    <tr>\n",
              "      <th>5520</th>\n",
              "      <td>2020-12-24</td>\n",
              "      <td>0.000986</td>\n",
              "      <td>0.001317</td>\n",
              "      <td>0.005948</td>\n",
              "      <td>0.000200</td>\n",
              "    </tr>\n",
              "    <tr>\n",
              "      <th>5521</th>\n",
              "      <td>2020-12-28</td>\n",
              "      <td>0.011567</td>\n",
              "      <td>0.013800</td>\n",
              "      <td>0.001365</td>\n",
              "      <td>0.010212</td>\n",
              "    </tr>\n",
              "    <tr>\n",
              "      <th>5522</th>\n",
              "      <td>2020-12-29</td>\n",
              "      <td>-0.008552</td>\n",
              "      <td>-0.006283</td>\n",
              "      <td>-0.005678</td>\n",
              "      <td>-0.006343</td>\n",
              "    </tr>\n",
              "    <tr>\n",
              "      <th>5523</th>\n",
              "      <td>2020-12-30</td>\n",
              "      <td>0.000481</td>\n",
              "      <td>0.005300</td>\n",
              "      <td>0.009236</td>\n",
              "      <td>0.003790</td>\n",
              "    </tr>\n",
              "    <tr>\n",
              "      <th>5524</th>\n",
              "      <td>2020-12-31</td>\n",
              "      <td>0.000000</td>\n",
              "      <td>-0.002597</td>\n",
              "      <td>0.004116</td>\n",
              "      <td>0.001789</td>\n",
              "    </tr>\n",
              "  </tbody>\n",
              "</table>\n",
              "<p>5525 rows × 5 columns</p>\n",
              "</div>"
            ],
            "text/plain": [
              "           data       usd       eur       gbp       jpy\n",
              "0    1999-01-04 -0.000745  0.006905  0.001609  0.005133\n",
              "1    1999-01-05  0.000580 -0.000148 -0.003098  0.005757\n",
              "2    1999-01-06  0.000911 -0.012939  0.000671 -0.013295\n",
              "3    1999-01-07  0.000414  0.008763 -0.002005  0.017404\n",
              "4    1999-01-08  0.000248 -0.009993 -0.003383  0.001288\n",
              "...         ...       ...       ...       ...       ...\n",
              "5520 2020-12-24  0.000986  0.001317  0.005948  0.000200\n",
              "5521 2020-12-28  0.011567  0.013800  0.001365  0.010212\n",
              "5522 2020-12-29 -0.008552 -0.006283 -0.005678 -0.006343\n",
              "5523 2020-12-30  0.000481  0.005300  0.009236  0.003790\n",
              "5524 2020-12-31  0.000000 -0.002597  0.004116  0.001789\n",
              "\n",
              "[5525 rows x 5 columns]"
            ]
          },
          "metadata": {},
          "execution_count": 11
        }
      ]
    },
    {
      "cell_type": "markdown",
      "metadata": {
        "id": "EYHFy8jdfRRN"
      },
      "source": [
        "### Removing null values"
      ]
    },
    {
      "cell_type": "code",
      "metadata": {
        "colab": {
          "base_uri": "https://localhost:8080/"
        },
        "id": "euxy2xuXfRRN",
        "outputId": "2ac22bd9-4887-4cf9-916f-448326d1c1d6"
      },
      "source": [
        "df_null = df[df.isna().any(axis=1)]\n",
        "df_null"
      ],
      "execution_count": null,
      "outputs": [
        {
          "output_type": "execute_result",
          "data": {
            "text/html": [
              "<div>\n",
              "<style scoped>\n",
              "    .dataframe tbody tr th:only-of-type {\n",
              "        vertical-align: middle;\n",
              "    }\n",
              "\n",
              "    .dataframe tbody tr th {\n",
              "        vertical-align: top;\n",
              "    }\n",
              "\n",
              "    .dataframe thead th {\n",
              "        text-align: right;\n",
              "    }\n",
              "</style>\n",
              "<table border=\"1\" class=\"dataframe\">\n",
              "  <thead>\n",
              "    <tr style=\"text-align: right;\">\n",
              "      <th></th>\n",
              "      <th>data</th>\n",
              "      <th>usd</th>\n",
              "      <th>eur</th>\n",
              "      <th>gbp</th>\n",
              "      <th>jpy</th>\n",
              "    </tr>\n",
              "  </thead>\n",
              "  <tbody>\n",
              "    <tr>\n",
              "      <th>3502</th>\n",
              "      <td>2012-12-12</td>\n",
              "      <td>0.002797</td>\n",
              "      <td>NaN</td>\n",
              "      <td>NaN</td>\n",
              "      <td>NaN</td>\n",
              "    </tr>\n",
              "    <tr>\n",
              "      <th>3850</th>\n",
              "      <td>2014-05-05</td>\n",
              "      <td>0.002926</td>\n",
              "      <td>NaN</td>\n",
              "      <td>NaN</td>\n",
              "      <td>NaN</td>\n",
              "    </tr>\n",
              "    <tr>\n",
              "      <th>4562</th>\n",
              "      <td>2017-03-01</td>\n",
              "      <td>-0.000549</td>\n",
              "      <td>-0.000825</td>\n",
              "      <td>-0.014059</td>\n",
              "      <td>NaN</td>\n",
              "    </tr>\n",
              "    <tr>\n",
              "      <th>5017</th>\n",
              "      <td>2018-12-26</td>\n",
              "      <td>0.010634</td>\n",
              "      <td>NaN</td>\n",
              "      <td>NaN</td>\n",
              "      <td>NaN</td>\n",
              "    </tr>\n",
              "    <tr>\n",
              "      <th>5510</th>\n",
              "      <td>2020-12-10</td>\n",
              "      <td>-0.005029</td>\n",
              "      <td>NaN</td>\n",
              "      <td>NaN</td>\n",
              "      <td>NaN</td>\n",
              "    </tr>\n",
              "  </tbody>\n",
              "</table>\n",
              "</div>"
            ],
            "text/plain": [
              "           data       usd       eur       gbp  jpy\n",
              "3502 2012-12-12  0.002797       NaN       NaN  NaN\n",
              "3850 2014-05-05  0.002926       NaN       NaN  NaN\n",
              "4562 2017-03-01 -0.000549 -0.000825 -0.014059  NaN\n",
              "5017 2018-12-26  0.010634       NaN       NaN  NaN\n",
              "5510 2020-12-10 -0.005029       NaN       NaN  NaN"
            ]
          },
          "metadata": {},
          "execution_count": 12
        }
      ]
    },
    {
      "cell_type": "code",
      "metadata": {
        "colab": {
          "base_uri": "https://localhost:8080/"
        },
        "id": "-9-rq7tEfRRN",
        "outputId": "806bcf05-1209-406b-de78-bf3393f10870"
      },
      "source": [
        "# df = df.fillna(df.rolling(6,min_periods=1).mean())\n",
        "\n",
        "df = df.dropna()\n",
        "print(len(df))"
      ],
      "execution_count": null,
      "outputs": [
        {
          "output_type": "stream",
          "name": "stdout",
          "text": [
            "5520\n"
          ]
        }
      ]
    },
    {
      "cell_type": "markdown",
      "metadata": {
        "id": "jCnEUgXrfRRN"
      },
      "source": [
        "### Indexing"
      ]
    },
    {
      "cell_type": "code",
      "metadata": {
        "id": "MdvOPwd8fRRO"
      },
      "source": [
        "usd = usd.set_index('data')\n",
        "eur = eur.set_index('data')\n",
        "gbp = gbp.set_index('data')\n",
        "jpy = jpy.set_index('data')\n",
        "\n",
        "df = df.set_index('data')"
      ],
      "execution_count": null,
      "outputs": []
    },
    {
      "cell_type": "markdown",
      "source": [
        "# EDA"
      ],
      "metadata": {
        "id": "Lp33u7QMzl1o"
      }
    },
    {
      "cell_type": "markdown",
      "metadata": {
        "id": "D2Bx2q2CfRRO"
      },
      "source": [
        "### Descriptive Statistics"
      ]
    },
    {
      "cell_type": "code",
      "metadata": {
        "colab": {
          "base_uri": "https://localhost:8080/",
          "height": 388
        },
        "id": "39IgrkJUfRRO",
        "outputId": "91393525-c6d4-4aac-c5c5-9d343a045ab3"
      },
      "source": [
        "desc_stats = df.describe()\n",
        "desc_stats.loc['var'] = df.var().tolist()\n",
        "desc_stats.loc['skew'] = df.skew().tolist()\n",
        "desc_stats.loc['kurt'] = df.kurtosis().tolist()\n",
        "desc_stats"
      ],
      "execution_count": null,
      "outputs": [
        {
          "output_type": "execute_result",
          "data": {
            "text/html": [
              "<div>\n",
              "<style scoped>\n",
              "    .dataframe tbody tr th:only-of-type {\n",
              "        vertical-align: middle;\n",
              "    }\n",
              "\n",
              "    .dataframe tbody tr th {\n",
              "        vertical-align: top;\n",
              "    }\n",
              "\n",
              "    .dataframe thead th {\n",
              "        text-align: right;\n",
              "    }\n",
              "</style>\n",
              "<table border=\"1\" class=\"dataframe\">\n",
              "  <thead>\n",
              "    <tr style=\"text-align: right;\">\n",
              "      <th></th>\n",
              "      <th>usd</th>\n",
              "      <th>eur</th>\n",
              "      <th>gbp</th>\n",
              "      <th>jpy</th>\n",
              "    </tr>\n",
              "  </thead>\n",
              "  <tbody>\n",
              "    <tr>\n",
              "      <th>count</th>\n",
              "      <td>5520.000000</td>\n",
              "      <td>5520.000000</td>\n",
              "      <td>5520.000000</td>\n",
              "      <td>5520.000000</td>\n",
              "    </tr>\n",
              "    <tr>\n",
              "      <th>mean</th>\n",
              "      <td>0.000313</td>\n",
              "      <td>0.000330</td>\n",
              "      <td>0.000287</td>\n",
              "      <td>0.000354</td>\n",
              "    </tr>\n",
              "    <tr>\n",
              "      <th>std</th>\n",
              "      <td>0.010099</td>\n",
              "      <td>0.010701</td>\n",
              "      <td>0.010541</td>\n",
              "      <td>0.012161</td>\n",
              "    </tr>\n",
              "    <tr>\n",
              "      <th>min</th>\n",
              "      <td>-0.089368</td>\n",
              "      <td>-0.091125</td>\n",
              "      <td>-0.094090</td>\n",
              "      <td>-0.086477</td>\n",
              "    </tr>\n",
              "    <tr>\n",
              "      <th>25%</th>\n",
              "      <td>-0.004662</td>\n",
              "      <td>-0.005290</td>\n",
              "      <td>-0.005299</td>\n",
              "      <td>-0.005898</td>\n",
              "    </tr>\n",
              "    <tr>\n",
              "      <th>50%</th>\n",
              "      <td>0.000000</td>\n",
              "      <td>0.000009</td>\n",
              "      <td>0.000123</td>\n",
              "      <td>0.000000</td>\n",
              "    </tr>\n",
              "    <tr>\n",
              "      <th>75%</th>\n",
              "      <td>0.004796</td>\n",
              "      <td>0.005642</td>\n",
              "      <td>0.005585</td>\n",
              "      <td>0.006055</td>\n",
              "    </tr>\n",
              "    <tr>\n",
              "      <th>max</th>\n",
              "      <td>0.111103</td>\n",
              "      <td>0.103173</td>\n",
              "      <td>0.112916</td>\n",
              "      <td>0.112787</td>\n",
              "    </tr>\n",
              "    <tr>\n",
              "      <th>var</th>\n",
              "      <td>0.000102</td>\n",
              "      <td>0.000115</td>\n",
              "      <td>0.000111</td>\n",
              "      <td>0.000148</td>\n",
              "    </tr>\n",
              "    <tr>\n",
              "      <th>skew</th>\n",
              "      <td>0.585043</td>\n",
              "      <td>0.419638</td>\n",
              "      <td>0.357080</td>\n",
              "      <td>0.692594</td>\n",
              "    </tr>\n",
              "    <tr>\n",
              "      <th>kurt</th>\n",
              "      <td>12.883463</td>\n",
              "      <td>9.758910</td>\n",
              "      <td>11.010606</td>\n",
              "      <td>9.190858</td>\n",
              "    </tr>\n",
              "  </tbody>\n",
              "</table>\n",
              "</div>"
            ],
            "text/plain": [
              "               usd          eur          gbp          jpy\n",
              "count  5520.000000  5520.000000  5520.000000  5520.000000\n",
              "mean      0.000313     0.000330     0.000287     0.000354\n",
              "std       0.010099     0.010701     0.010541     0.012161\n",
              "min      -0.089368    -0.091125    -0.094090    -0.086477\n",
              "25%      -0.004662    -0.005290    -0.005299    -0.005898\n",
              "50%       0.000000     0.000009     0.000123     0.000000\n",
              "75%       0.004796     0.005642     0.005585     0.006055\n",
              "max       0.111103     0.103173     0.112916     0.112787\n",
              "var       0.000102     0.000115     0.000111     0.000148\n",
              "skew      0.585043     0.419638     0.357080     0.692594\n",
              "kurt     12.883463     9.758910    11.010606     9.190858"
            ]
          },
          "metadata": {},
          "execution_count": 15
        }
      ]
    },
    {
      "cell_type": "code",
      "metadata": {
        "colab": {
          "base_uri": "https://localhost:8080/",
          "height": 172
        },
        "id": "8j8mTeG_fRRO",
        "outputId": "6710250a-587c-42da-88c0-8117600ce983"
      },
      "source": [
        "stats_temp = desc_stats.transpose().reset_index().rename(columns={'index':'moeda'})\n",
        "stats_temp"
      ],
      "execution_count": null,
      "outputs": [
        {
          "output_type": "execute_result",
          "data": {
            "text/html": [
              "<div>\n",
              "<style scoped>\n",
              "    .dataframe tbody tr th:only-of-type {\n",
              "        vertical-align: middle;\n",
              "    }\n",
              "\n",
              "    .dataframe tbody tr th {\n",
              "        vertical-align: top;\n",
              "    }\n",
              "\n",
              "    .dataframe thead th {\n",
              "        text-align: right;\n",
              "    }\n",
              "</style>\n",
              "<table border=\"1\" class=\"dataframe\">\n",
              "  <thead>\n",
              "    <tr style=\"text-align: right;\">\n",
              "      <th></th>\n",
              "      <th>moeda</th>\n",
              "      <th>count</th>\n",
              "      <th>mean</th>\n",
              "      <th>std</th>\n",
              "      <th>min</th>\n",
              "      <th>25%</th>\n",
              "      <th>50%</th>\n",
              "      <th>75%</th>\n",
              "      <th>max</th>\n",
              "      <th>var</th>\n",
              "      <th>skew</th>\n",
              "      <th>kurt</th>\n",
              "    </tr>\n",
              "  </thead>\n",
              "  <tbody>\n",
              "    <tr>\n",
              "      <th>0</th>\n",
              "      <td>usd</td>\n",
              "      <td>5520.0</td>\n",
              "      <td>0.000313</td>\n",
              "      <td>0.010099</td>\n",
              "      <td>-0.089368</td>\n",
              "      <td>-0.004662</td>\n",
              "      <td>0.000000</td>\n",
              "      <td>0.004796</td>\n",
              "      <td>0.111103</td>\n",
              "      <td>0.000102</td>\n",
              "      <td>0.585043</td>\n",
              "      <td>12.883463</td>\n",
              "    </tr>\n",
              "    <tr>\n",
              "      <th>1</th>\n",
              "      <td>eur</td>\n",
              "      <td>5520.0</td>\n",
              "      <td>0.000330</td>\n",
              "      <td>0.010701</td>\n",
              "      <td>-0.091125</td>\n",
              "      <td>-0.005290</td>\n",
              "      <td>0.000009</td>\n",
              "      <td>0.005642</td>\n",
              "      <td>0.103173</td>\n",
              "      <td>0.000115</td>\n",
              "      <td>0.419638</td>\n",
              "      <td>9.758910</td>\n",
              "    </tr>\n",
              "    <tr>\n",
              "      <th>2</th>\n",
              "      <td>gbp</td>\n",
              "      <td>5520.0</td>\n",
              "      <td>0.000287</td>\n",
              "      <td>0.010541</td>\n",
              "      <td>-0.094090</td>\n",
              "      <td>-0.005299</td>\n",
              "      <td>0.000123</td>\n",
              "      <td>0.005585</td>\n",
              "      <td>0.112916</td>\n",
              "      <td>0.000111</td>\n",
              "      <td>0.357080</td>\n",
              "      <td>11.010606</td>\n",
              "    </tr>\n",
              "    <tr>\n",
              "      <th>3</th>\n",
              "      <td>jpy</td>\n",
              "      <td>5520.0</td>\n",
              "      <td>0.000354</td>\n",
              "      <td>0.012161</td>\n",
              "      <td>-0.086477</td>\n",
              "      <td>-0.005898</td>\n",
              "      <td>0.000000</td>\n",
              "      <td>0.006055</td>\n",
              "      <td>0.112787</td>\n",
              "      <td>0.000148</td>\n",
              "      <td>0.692594</td>\n",
              "      <td>9.190858</td>\n",
              "    </tr>\n",
              "  </tbody>\n",
              "</table>\n",
              "</div>"
            ],
            "text/plain": [
              "  moeda   count      mean       std  ...       max       var      skew       kurt\n",
              "0   usd  5520.0  0.000313  0.010099  ...  0.111103  0.000102  0.585043  12.883463\n",
              "1   eur  5520.0  0.000330  0.010701  ...  0.103173  0.000115  0.419638   9.758910\n",
              "2   gbp  5520.0  0.000287  0.010541  ...  0.112916  0.000111  0.357080  11.010606\n",
              "3   jpy  5520.0  0.000354  0.012161  ...  0.112787  0.000148  0.692594   9.190858\n",
              "\n",
              "[4 rows x 12 columns]"
            ]
          },
          "metadata": {},
          "execution_count": 16
        }
      ]
    },
    {
      "cell_type": "code",
      "metadata": {
        "id": "pUZb1UjpfRRO"
      },
      "source": [
        "# stats.to_excel('estat_desc.xlsx')"
      ],
      "execution_count": null,
      "outputs": []
    },
    {
      "cell_type": "markdown",
      "metadata": {
        "id": "lBVQHLS9fRRO"
      },
      "source": [
        "### Time Series Plots"
      ]
    },
    {
      "cell_type": "code",
      "metadata": {
        "colab": {
          "background_save": true,
          "base_uri": "https://localhost:8080/"
        },
        "id": "xoEJCKRqfRRO",
        "scrolled": false,
        "outputId": "730d84ac-c481-4e86-8155-7720365f3c03"
      },
      "source": [
        "df.plot(subplots=True, \n",
        "        linewidth=0.5, \n",
        "        layout=(4, 2), \n",
        "        figsize=(20, 20), \n",
        "        sharex=False,\n",
        "        sharey=False\n",
        "       )\n",
        "plt.show()"
      ],
      "execution_count": null,
      "outputs": [
        {
          "data": {
            "image/png": "[encoded data removed]",
            "text/plain": [
              "<Figure size 1440x1440 with 8 Axes>"
            ]
          },
          "metadata": {},
          "output_type": "display_data"
        }
      ]
    },
    {
      "cell_type": "code",
      "metadata": {
        "colab": {
          "background_save": true,
          "base_uri": "https://localhost:8080/"
        },
        "id": "RZPYPh-EfRRP",
        "outputId": "c59c9721-f3cb-4ef5-be1a-4e8e42d5a3ac"
      },
      "source": [
        "# navy, darkgreen, maroon, olive\n",
        "ax = df.usd.plot(linewidth=0.5, figsize=(10,6), color='navy')\n",
        "ax.set_xlabel('Data')\n",
        "ax.set_ylabel('Retorno')\n",
        "plt.show()"
      ],
      "execution_count": null,
      "outputs": [
        {
          "data": {
            "image/png": "[encoded data removed]",
            "text/plain": [
              "<Figure size 720x432 with 1 Axes>"
            ]
          },
          "metadata": {},
          "output_type": "display_data"
        }
      ]
    },
    {
      "cell_type": "markdown",
      "metadata": {
        "id": "S9NKtJJ7fRRQ"
      },
      "source": [
        "### Histograms"
      ]
    },
    {
      "cell_type": "code",
      "metadata": {
        "colab": {
          "background_save": true,
          "base_uri": "https://localhost:8080/"
        },
        "id": "jIhENrE4fRRQ",
        "scrolled": false,
        "outputId": "3ad07cf5-52a5-4c0d-fffe-6fa9e11039dc"
      },
      "source": [
        "# df.columns = pd.CategoricalIndex(['usd', 'eur', 'gbp', 'jpy'], ordered=True)\n",
        "df.plot.hist(sort_columns=False, \n",
        "             subplots=True,\n",
        "             layout=(4, 2), \n",
        "             figsize=(20, 20),\n",
        "             sharex=False,\n",
        "             sharey=False,\n",
        "             bins=50)\n",
        "plt.show()"
      ],
      "execution_count": null,
      "outputs": [
        {
          "data": {
            "image/png": "[encoded data removed]",
            "text/plain": [
              "<Figure size 1440x1440 with 8 Axes>"
            ]
          },
          "metadata": {},
          "output_type": "display_data"
        }
      ]
    },
    {
      "cell_type": "code",
      "metadata": {
        "colab": {
          "background_save": true,
          "base_uri": "https://localhost:8080/"
        },
        "id": "AnBUj2F5fRRQ",
        "outputId": "f77a711c-a942-49fc-dbe5-e75626dbdac7"
      },
      "source": [
        "ax = df.gbp.plot.hist(figsize=(10,6), bins=50, color='olive')\n",
        "ax.set_ylabel('Frequência')\n",
        "plt.show()"
      ],
      "execution_count": null,
      "outputs": [
        {
          "data": {
            "image/png": "[encoded data removed]",
            "text/plain": [
              "<Figure size 720x432 with 1 Axes>"
            ]
          },
          "metadata": {},
          "output_type": "display_data"
        }
      ]
    },
    {
      "cell_type": "code",
      "metadata": {
        "colab": {
          "background_save": true,
          "base_uri": "https://localhost:8080/"
        },
        "id": "-MbUO96-qgLF",
        "outputId": "fbbe2d0c-e6ba-4ef9-de44-2ff4c158b640"
      },
      "source": [
        "fig, ax = plt.subplots(1,1)\n",
        "\n",
        "x = np.linspace(stats.norm.ppf(0.0001, df.gbp.mean(), df.gbp.std()),\n",
        "                stats.norm.ppf(0.9999, df.gbp.mean(), df.gbp.std()), 5520)\n",
        "\n",
        "y = np.linspace(stats.gennorm.ppf(0.0001, 0.5),\n",
        "                stats.gennorm.ppf(0.9999, 0.5), 5520)\n",
        "\n",
        "#ax.plot(x, stats.norm.pdf(x, df.gbp.mean(), df.gbp.std()), 'r-', lw=2)\n",
        "#ax.hist(df.gbp, density=True, histtype='stepfilled', bins=50)\n",
        "\n",
        "ax.plot(y, stats.gennorm.pdf(y, 0.5), 'r-', lw=2)\n",
        "ax.hist(df.gbp, density=True, histtype='stepfilled', bins=50)\n",
        "\n",
        "#ax.plot(y, stats.t.pdf(y, 5519), 'r-', lw=2)\n",
        "#ax.hist(df.gbp, density=True, stacked=True, weights=np.ones(len(df.gbp))/len(df.gbp), histtype='stepfilled', bins=50)\n",
        "\n",
        "ax.set_title('Densidade de Probabilidade')\n",
        "plt.show()"
      ],
      "execution_count": null,
      "outputs": [
        {
          "data": {
            "image/png": "[encoded data removed]",
            "text/plain": [
              "<Figure size 432x288 with 1 Axes>"
            ]
          },
          "metadata": {},
          "output_type": "display_data"
        }
      ]
    },
    {
      "cell_type": "markdown",
      "metadata": {
        "id": "hZtjT-2ZfRRQ"
      },
      "source": [
        "### Outliers"
      ]
    },
    {
      "cell_type": "code",
      "metadata": {
        "colab": {
          "background_save": true,
          "base_uri": "https://localhost:8080/"
        },
        "id": "5OV4hfuofRRR",
        "outputId": "80820501-b409-41cf-e4bf-d33c571251ed"
      },
      "source": [
        "def count_outliers(df,col):\n",
        "    \n",
        "    iqr = df[col].quantile(0.75) - df[col].quantile(0.25)\n",
        "    max_outlier_rule = df[col].quantile(0.75) + 1.5 * iqr\n",
        "    min_outlier_rule = df[col].quantile(0.25) - 1.5 * iqr\n",
        "    \n",
        "    max_out = len(df.loc[df[col] > max_outlier_rule])\n",
        "    min_out = len(df.loc[df[col] < min_outlier_rule])\n",
        "    result = (max_out + min_out) / len(df[col])\n",
        "    return print(result)  \n",
        "    \n",
        "    \n",
        "count_outliers(df,'usd')\n",
        "count_outliers(df,'eur')\n",
        "count_outliers(df,'gbp')\n",
        "count_outliers(df,'jpy')"
      ],
      "execution_count": null,
      "outputs": [
        {
          "name": "stdout",
          "output_type": "stream",
          "text": [
            "0.05507246376811594\n",
            "0.04492753623188406\n",
            "0.04057971014492753\n",
            "0.04710144927536232\n"
          ]
        }
      ]
    },
    {
      "cell_type": "markdown",
      "metadata": {
        "id": "0PKI6gzxfRRR"
      },
      "source": [
        "### ACF and PACF"
      ]
    },
    {
      "cell_type": "code",
      "metadata": {
        "colab": {
          "base_uri": "https://localhost:8080/",
          "height": 499
        },
        "id": "Hl5Nby8CfRRR",
        "outputId": "040593c3-9aca-4daa-eeca-b21da64a9827"
      },
      "source": [
        "fig, ax = plt.subplots(figsize=(12, 8))\n",
        "\n",
        "plot_acf(df.eur, ax=ax)\n",
        "plt.show()"
      ],
      "execution_count": null,
      "outputs": [
        {
          "output_type": "display_data",
          "data": {
            "image/png": "[encoded data removed]",
            "text/plain": [
              "<Figure size 864x576 with 1 Axes>"
            ]
          },
          "metadata": {
            "needs_background": "light"
          }
        }
      ]
    },
    {
      "cell_type": "markdown",
      "metadata": {
        "id": "YIUDe46EbPXo"
      },
      "source": [
        "### Ljung-Box"
      ]
    },
    {
      "cell_type": "code",
      "metadata": {
        "colab": {
          "background_save": true,
          "base_uri": "https://localhost:8080/"
        },
        "id": "6zJKmsxabJuk",
        "outputId": "a431749d-99d1-4e21-fa97-35b78e0bda26"
      },
      "source": [
        "lb = pd.DataFrame(sm.stats.acorr_ljungbox(df.usd, lags=[10])).T\n",
        "lb.columns = ['Estatística de Teste', 'p-valor']\n",
        "lb"
      ],
      "execution_count": null,
      "outputs": [
        {
          "data": {
            "text/html": [
              "<div>\n",
              "<style scoped>\n",
              "    .dataframe tbody tr th:only-of-type {\n",
              "        vertical-align: middle;\n",
              "    }\n",
              "\n",
              "    .dataframe tbody tr th {\n",
              "        vertical-align: top;\n",
              "    }\n",
              "\n",
              "    .dataframe thead th {\n",
              "        text-align: right;\n",
              "    }\n",
              "</style>\n",
              "<table border=\"1\" class=\"dataframe\">\n",
              "  <thead>\n",
              "    <tr style=\"text-align: right;\">\n",
              "      <th></th>\n",
              "      <th>Estatística de Teste</th>\n",
              "      <th>p-valor</th>\n",
              "    </tr>\n",
              "  </thead>\n",
              "  <tbody>\n",
              "    <tr>\n",
              "      <th>0</th>\n",
              "      <td>53.129701</td>\n",
              "      <td>7.044181e-08</td>\n",
              "    </tr>\n",
              "  </tbody>\n",
              "</table>\n",
              "</div>"
            ],
            "text/plain": [
              "   Estatística de Teste       p-valor\n",
              "0             53.129701  7.044181e-08"
            ]
          },
          "execution_count": null,
          "metadata": {},
          "output_type": "execute_result"
        }
      ]
    },
    {
      "cell_type": "markdown",
      "metadata": {
        "id": "O_V7q4PbfRRR"
      },
      "source": [
        "### Hypothesis Testing"
      ]
    },
    {
      "cell_type": "code",
      "metadata": {
        "colab": {
          "background_save": true,
          "base_uri": "https://localhost:8080/"
        },
        "id": "NYkY15OdfRRR",
        "outputId": "b0edaeca-2e7f-4dc0-b6d2-295fbb0eab5f"
      },
      "source": [
        "# Estacionariedade\n",
        "\n",
        "cols = ['USD', 'EUR', 'GBP', 'JPY']\n",
        "\n",
        "def adf_test(timeseries):\n",
        "    dftest = adfuller(timeseries, autolag='AIC')\n",
        "    dfoutput = pd.Series(dftest[0:4], index=['Estatística de Teste','p-valor','#Lags Used','Number of Observations Used'])\n",
        "    for key,value in dftest[4].items():\n",
        "        dfoutput['Valor Crítico a %s'%key] = value        \n",
        "    adf_df = dfoutput.to_frame()\n",
        "    return adf_df\n",
        "\n",
        "adf_usd = adf_test(df.usd)\n",
        "adf_eur = adf_test(df.eur)\n",
        "adf_gbp = adf_test(df.gbp)\n",
        "adf_jpy = adf_test(df.jpy)\n",
        "\n",
        "adf_1 = pd.merge(adf_usd, adf_eur, how='left', left_index=True, right_index=True)\n",
        "adf_2 = pd.merge(adf_1, adf_gbp, how='left', left_index=True, right_index=True)\n",
        "adf_results = pd.merge(adf_2, adf_jpy, how='left', left_index=True, right_index=True)\n",
        "\n",
        "adf_results.columns = cols\n",
        "adf_results"
      ],
      "execution_count": null,
      "outputs": [
        {
          "data": {
            "text/html": [
              "<div>\n",
              "<style scoped>\n",
              "    .dataframe tbody tr th:only-of-type {\n",
              "        vertical-align: middle;\n",
              "    }\n",
              "\n",
              "    .dataframe tbody tr th {\n",
              "        vertical-align: top;\n",
              "    }\n",
              "\n",
              "    .dataframe thead th {\n",
              "        text-align: right;\n",
              "    }\n",
              "</style>\n",
              "<table border=\"1\" class=\"dataframe\">\n",
              "  <thead>\n",
              "    <tr style=\"text-align: right;\">\n",
              "      <th></th>\n",
              "      <th>USD</th>\n",
              "      <th>EUR</th>\n",
              "      <th>GBP</th>\n",
              "      <th>JPY</th>\n",
              "    </tr>\n",
              "  </thead>\n",
              "  <tbody>\n",
              "    <tr>\n",
              "      <th>Estatística de Teste</th>\n",
              "      <td>-1.713295e+01</td>\n",
              "      <td>-52.409201</td>\n",
              "      <td>-52.040900</td>\n",
              "      <td>-1.631769e+01</td>\n",
              "    </tr>\n",
              "    <tr>\n",
              "      <th>p-valor</th>\n",
              "      <td>7.129185e-30</td>\n",
              "      <td>0.000000</td>\n",
              "      <td>0.000000</td>\n",
              "      <td>3.150215e-29</td>\n",
              "    </tr>\n",
              "    <tr>\n",
              "      <th>#Lags Used</th>\n",
              "      <td>1.900000e+01</td>\n",
              "      <td>1.000000</td>\n",
              "      <td>1.000000</td>\n",
              "      <td>1.900000e+01</td>\n",
              "    </tr>\n",
              "    <tr>\n",
              "      <th>Number of Observations Used</th>\n",
              "      <td>5.500000e+03</td>\n",
              "      <td>5518.000000</td>\n",
              "      <td>5518.000000</td>\n",
              "      <td>5.500000e+03</td>\n",
              "    </tr>\n",
              "    <tr>\n",
              "      <th>Valor Crítico a 1%</th>\n",
              "      <td>-3.431540e+00</td>\n",
              "      <td>-3.431536</td>\n",
              "      <td>-3.431536</td>\n",
              "      <td>-3.431540e+00</td>\n",
              "    </tr>\n",
              "    <tr>\n",
              "      <th>Valor Crítico a 5%</th>\n",
              "      <td>-2.862066e+00</td>\n",
              "      <td>-2.862064</td>\n",
              "      <td>-2.862064</td>\n",
              "      <td>-2.862066e+00</td>\n",
              "    </tr>\n",
              "    <tr>\n",
              "      <th>Valor Crítico a 10%</th>\n",
              "      <td>-2.567050e+00</td>\n",
              "      <td>-2.567049</td>\n",
              "      <td>-2.567049</td>\n",
              "      <td>-2.567050e+00</td>\n",
              "    </tr>\n",
              "  </tbody>\n",
              "</table>\n",
              "</div>"
            ],
            "text/plain": [
              "                                      USD  ...           JPY\n",
              "Estatística de Teste        -1.713295e+01  ... -1.631769e+01\n",
              "p-valor                      7.129185e-30  ...  3.150215e-29\n",
              "#Lags Used                   1.900000e+01  ...  1.900000e+01\n",
              "Number of Observations Used  5.500000e+03  ...  5.500000e+03\n",
              "Valor Crítico a 1%          -3.431540e+00  ... -3.431540e+00\n",
              "Valor Crítico a 5%          -2.862066e+00  ... -2.862066e+00\n",
              "Valor Crítico a 10%         -2.567050e+00  ... -2.567050e+00\n",
              "\n",
              "[7 rows x 4 columns]"
            ]
          },
          "execution_count": null,
          "metadata": {},
          "output_type": "execute_result"
        }
      ]
    },
    {
      "cell_type": "code",
      "metadata": {
        "colab": {
          "background_save": true
        },
        "id": "9vyHrplzfRRR"
      },
      "source": [
        "# adf_results.to_excel('adf_results.xlsx')"
      ],
      "execution_count": null,
      "outputs": []
    },
    {
      "cell_type": "markdown",
      "metadata": {
        "id": "lq09kSsiuX1b"
      },
      "source": [
        "### QQ Plot"
      ]
    },
    {
      "cell_type": "code",
      "metadata": {
        "colab": {
          "background_save": true,
          "base_uri": "https://localhost:8080/"
        },
        "id": "Rg0EBUXcx1tL",
        "outputId": "2f69fb57-a3d2-439e-c9e9-3ca0230b8ef6"
      },
      "source": [
        "stats.probplot(df.usd, dist=stats.t(3), plot=pylab)\n",
        "pylab.show()"
      ],
      "execution_count": null,
      "outputs": [
        {
          "data": {
            "image/png": "[encoded data removed]",
            "text/plain": [
              "<Figure size 432x288 with 1 Axes>"
            ]
          },
          "metadata": {},
          "output_type": "display_data"
        }
      ]
    },
    {
      "cell_type": "code",
      "metadata": {
        "colab": {
          "background_save": true,
          "base_uri": "https://localhost:8080/"
        },
        "id": "T-5R8q9OvcBU",
        "outputId": "fda04c42-8799-4b5d-f7be-f7e14479c1cb"
      },
      "source": [
        "stats.probplot(df.jpy, dist='norm', plot=pylab)\n",
        "pylab.show()"
      ],
      "execution_count": null,
      "outputs": [
        {
          "data": {
            "image/png": "[encoded data removed]",
            "text/plain": [
              "<Figure size 432x288 with 1 Axes>"
            ]
          },
          "metadata": {},
          "output_type": "display_data"
        }
      ]
    },
    {
      "cell_type": "code",
      "metadata": {
        "colab": {
          "background_save": true,
          "base_uri": "https://localhost:8080/"
        },
        "id": "Jyyq_PtVubZB",
        "outputId": "e71d8a39-2660-4c0f-8ae4-405be3980b75"
      },
      "source": [
        "stats.probplot(df.jpy, dist=stats.gennorm(0.5), plot=pylab)\n",
        "pylab.show()"
      ],
      "execution_count": null,
      "outputs": [
        {
          "data": {
            "image/png": "[encoded data removed]",
            "text/plain": [
              "<Figure size 432x288 with 1 Axes>"
            ]
          },
          "metadata": {},
          "output_type": "display_data"
        }
      ]
    }
  ]
}